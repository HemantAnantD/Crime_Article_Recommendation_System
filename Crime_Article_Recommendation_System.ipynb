{
 "cells": [
  {
   "cell_type": "code",
   "execution_count": 17,
   "metadata": {
    "id": "A4yqCF1o9PHI"
   },
   "outputs": [],
   "source": [
    "import pandas as pd\n",
    "import numpy as np\n",
    "import seaborn as sns\n",
    "import matplotlib.pyplot as plt\n",
    "import warnings\n",
    "warnings.filterwarnings(\"ignore\")"
   ]
  },
  {
   "cell_type": "markdown",
   "metadata": {},
   "source": [
    "### Introduction of Dataset\n",
    "### This dataset contain csv file of Crime Article.\n",
    "\n",
    "### Problem: India is a country of 1.3 billion people. Some cases are continuing for 108 years.\n",
    "\n",
    "### Solution: So faster judging process would help people in a great way. So this dataset can be for            recommendation to the lawyers and judges.\n",
    "\n",
    "### Helping Judges: Judges may give the verdict sooner as they knew similar cases which has been happened.\n",
    "\n",
    "### Helping Lawyers: Lawyers would get aware through the recent cases through the recommendation, which has been happened. So they can give this example at the time of arguing."
   ]
  },
  {
   "cell_type": "code",
   "execution_count": 2,
   "metadata": {
    "id": "mbcnzWWz9fUa"
   },
   "outputs": [],
   "source": [
    "df=pd.read_csv(\"7k  Unique crime articles.csv\")"
   ]
  },
  {
   "cell_type": "markdown",
   "metadata": {},
   "source": [
    "### WE will check the head of dataframe."
   ]
  },
  {
   "cell_type": "code",
   "execution_count": 3,
   "metadata": {
    "colab": {
     "base_uri": "https://localhost:8080/",
     "height": 406
    },
    "id": "cFCFApiK-Nek",
    "outputId": "10b05b12-84f7-4980-ae8c-1fdc925dea3c"
   },
   "outputs": [
    {
     "data": {
      "text/html": [
       "\n",
       "  <div id=\"df-f0f2eee7-51ae-4e12-ad04-5944634c3cd5\">\n",
       "    <div class=\"colab-df-container\">\n",
       "      <div>\n",
       "<style scoped>\n",
       "    .dataframe tbody tr th:only-of-type {\n",
       "        vertical-align: middle;\n",
       "    }\n",
       "\n",
       "    .dataframe tbody tr th {\n",
       "        vertical-align: top;\n",
       "    }\n",
       "\n",
       "    .dataframe thead th {\n",
       "        text-align: right;\n",
       "    }\n",
       "</style>\n",
       "<table border=\"1\" class=\"dataframe\">\n",
       "  <thead>\n",
       "    <tr style=\"text-align: right;\">\n",
       "      <th></th>\n",
       "      <th>heading</th>\n",
       "      <th>content_summary</th>\n",
       "      <th>article_link</th>\n",
       "      <th>img_link</th>\n",
       "      <th>month_date</th>\n",
       "      <th>time</th>\n",
       "      <th>Year</th>\n",
       "    </tr>\n",
       "  </thead>\n",
       "  <tbody>\n",
       "    <tr>\n",
       "      <th>0</th>\n",
       "      <td>Uttarakhand: Man, 39, held for killing consta...</td>\n",
       "      <td>Nainital district police on Monday arrested a...</td>\n",
       "      <td>https://timesofindia.indiatimes.com/city/dehra...</td>\n",
       "      <td>https://static.toiimg.com/thumb/imgsize-123456...</td>\n",
       "      <td>Nov 08</td>\n",
       "      <td>09:55</td>\n",
       "      <td>2022</td>\n",
       "    </tr>\n",
       "    <tr>\n",
       "      <th>1</th>\n",
       "      <td>Nashik city: Another theft from parked car, s...</td>\n",
       "      <td>Thefts from parked cars continues in the city...</td>\n",
       "      <td>https://timesofindia.indiatimes.com/city/nashi...</td>\n",
       "      <td>https://static.toiimg.com/thumb/imgsize-123456...</td>\n",
       "      <td>Nov 08</td>\n",
       "      <td>08:25</td>\n",
       "      <td>2022</td>\n",
       "    </tr>\n",
       "    <tr>\n",
       "      <th>2</th>\n",
       "      <td>Pune: Externed criminal jumps from bus fearin...</td>\n",
       "      <td>An externed criminal died in the early hours ...</td>\n",
       "      <td>https://timesofindia.indiatimes.com/city/pune/...</td>\n",
       "      <td>https://static.toiimg.com/thumb/imgsize-123456...</td>\n",
       "      <td>Nov 08</td>\n",
       "      <td>05:17</td>\n",
       "      <td>2022</td>\n",
       "    </tr>\n",
       "    <tr>\n",
       "      <th>3</th>\n",
       "      <td>Gaya woman burned alive on suspicion of witch...</td>\n",
       "      <td>A middle-aged woman was badly thrashed and bu...</td>\n",
       "      <td>https://timesofindia.indiatimes.com/city/patna...</td>\n",
       "      <td>https://static.toiimg.com/thumb/imgsize-123456...</td>\n",
       "      <td>Nov 06</td>\n",
       "      <td>05:24</td>\n",
       "      <td>2022</td>\n",
       "    </tr>\n",
       "    <tr>\n",
       "      <th>4</th>\n",
       "      <td>Man held on charge of stalking in Pune</td>\n",
       "      <td>A man (33) was arrested on Tuesday from Khed ...</td>\n",
       "      <td>https://timesofindia.indiatimes.com/city/pune/...</td>\n",
       "      <td>https://static.toiimg.com/thumb/imgsize-123456...</td>\n",
       "      <td>Nov 03</td>\n",
       "      <td>08:32</td>\n",
       "      <td>2022</td>\n",
       "    </tr>\n",
       "  </tbody>\n",
       "</table>\n",
       "</div>\n",
       "      <button class=\"colab-df-convert\" onclick=\"convertToInteractive('df-f0f2eee7-51ae-4e12-ad04-5944634c3cd5')\"\n",
       "              title=\"Convert this dataframe to an interactive table.\"\n",
       "              style=\"display:none;\">\n",
       "        \n",
       "  <svg xmlns=\"http://www.w3.org/2000/svg\" height=\"24px\"viewBox=\"0 0 24 24\"\n",
       "       width=\"24px\">\n",
       "    <path d=\"M0 0h24v24H0V0z\" fill=\"none\"/>\n",
       "    <path d=\"M18.56 5.44l.94 2.06.94-2.06 2.06-.94-2.06-.94-.94-2.06-.94 2.06-2.06.94zm-11 1L8.5 8.5l.94-2.06 2.06-.94-2.06-.94L8.5 2.5l-.94 2.06-2.06.94zm10 10l.94 2.06.94-2.06 2.06-.94-2.06-.94-.94-2.06-.94 2.06-2.06.94z\"/><path d=\"M17.41 7.96l-1.37-1.37c-.4-.4-.92-.59-1.43-.59-.52 0-1.04.2-1.43.59L10.3 9.45l-7.72 7.72c-.78.78-.78 2.05 0 2.83L4 21.41c.39.39.9.59 1.41.59.51 0 1.02-.2 1.41-.59l7.78-7.78 2.81-2.81c.8-.78.8-2.07 0-2.86zM5.41 20L4 18.59l7.72-7.72 1.47 1.35L5.41 20z\"/>\n",
       "  </svg>\n",
       "      </button>\n",
       "      \n",
       "  <style>\n",
       "    .colab-df-container {\n",
       "      display:flex;\n",
       "      flex-wrap:wrap;\n",
       "      gap: 12px;\n",
       "    }\n",
       "\n",
       "    .colab-df-convert {\n",
       "      background-color: #E8F0FE;\n",
       "      border: none;\n",
       "      border-radius: 50%;\n",
       "      cursor: pointer;\n",
       "      display: none;\n",
       "      fill: #1967D2;\n",
       "      height: 32px;\n",
       "      padding: 0 0 0 0;\n",
       "      width: 32px;\n",
       "    }\n",
       "\n",
       "    .colab-df-convert:hover {\n",
       "      background-color: #E2EBFA;\n",
       "      box-shadow: 0px 1px 2px rgba(60, 64, 67, 0.3), 0px 1px 3px 1px rgba(60, 64, 67, 0.15);\n",
       "      fill: #174EA6;\n",
       "    }\n",
       "\n",
       "    [theme=dark] .colab-df-convert {\n",
       "      background-color: #3B4455;\n",
       "      fill: #D2E3FC;\n",
       "    }\n",
       "\n",
       "    [theme=dark] .colab-df-convert:hover {\n",
       "      background-color: #434B5C;\n",
       "      box-shadow: 0px 1px 3px 1px rgba(0, 0, 0, 0.15);\n",
       "      filter: drop-shadow(0px 1px 2px rgba(0, 0, 0, 0.3));\n",
       "      fill: #FFFFFF;\n",
       "    }\n",
       "  </style>\n",
       "\n",
       "      <script>\n",
       "        const buttonEl =\n",
       "          document.querySelector('#df-f0f2eee7-51ae-4e12-ad04-5944634c3cd5 button.colab-df-convert');\n",
       "        buttonEl.style.display =\n",
       "          google.colab.kernel.accessAllowed ? 'block' : 'none';\n",
       "\n",
       "        async function convertToInteractive(key) {\n",
       "          const element = document.querySelector('#df-f0f2eee7-51ae-4e12-ad04-5944634c3cd5');\n",
       "          const dataTable =\n",
       "            await google.colab.kernel.invokeFunction('convertToInteractive',\n",
       "                                                     [key], {});\n",
       "          if (!dataTable) return;\n",
       "\n",
       "          const docLinkHtml = 'Like what you see? Visit the ' +\n",
       "            '<a target=\"_blank\" href=https://colab.research.google.com/notebooks/data_table.ipynb>data table notebook</a>'\n",
       "            + ' to learn more about interactive tables.';\n",
       "          element.innerHTML = '';\n",
       "          dataTable['output_type'] = 'display_data';\n",
       "          await google.colab.output.renderOutput(dataTable, element);\n",
       "          const docLink = document.createElement('div');\n",
       "          docLink.innerHTML = docLinkHtml;\n",
       "          element.appendChild(docLink);\n",
       "        }\n",
       "      </script>\n",
       "    </div>\n",
       "  </div>\n",
       "  "
      ],
      "text/plain": [
       "                                             heading  \\\n",
       "0   Uttarakhand: Man, 39, held for killing consta...   \n",
       "1   Nashik city: Another theft from parked car, s...   \n",
       "2   Pune: Externed criminal jumps from bus fearin...   \n",
       "3   Gaya woman burned alive on suspicion of witch...   \n",
       "4            Man held on charge of stalking in Pune    \n",
       "\n",
       "                                     content_summary  \\\n",
       "0   Nainital district police on Monday arrested a...   \n",
       "1   Thefts from parked cars continues in the city...   \n",
       "2   An externed criminal died in the early hours ...   \n",
       "3   A middle-aged woman was badly thrashed and bu...   \n",
       "4   A man (33) was arrested on Tuesday from Khed ...   \n",
       "\n",
       "                                        article_link  \\\n",
       "0  https://timesofindia.indiatimes.com/city/dehra...   \n",
       "1  https://timesofindia.indiatimes.com/city/nashi...   \n",
       "2  https://timesofindia.indiatimes.com/city/pune/...   \n",
       "3  https://timesofindia.indiatimes.com/city/patna...   \n",
       "4  https://timesofindia.indiatimes.com/city/pune/...   \n",
       "\n",
       "                                            img_link month_date   time  Year  \n",
       "0  https://static.toiimg.com/thumb/imgsize-123456...     Nov 08  09:55  2022  \n",
       "1  https://static.toiimg.com/thumb/imgsize-123456...     Nov 08  08:25  2022  \n",
       "2  https://static.toiimg.com/thumb/imgsize-123456...     Nov 08  05:17  2022  \n",
       "3  https://static.toiimg.com/thumb/imgsize-123456...     Nov 06  05:24  2022  \n",
       "4  https://static.toiimg.com/thumb/imgsize-123456...     Nov 03  08:32  2022  "
      ]
     },
     "execution_count": 3,
     "metadata": {},
     "output_type": "execute_result"
    }
   ],
   "source": [
    "df.head()"
   ]
  },
  {
   "cell_type": "code",
   "execution_count": 4,
   "metadata": {
    "colab": {
     "base_uri": "https://localhost:8080/"
    },
    "id": "O6an8lBE-Pxp",
    "outputId": "f390c9ba-683a-48a2-842a-50ec3e2aca95"
   },
   "outputs": [
    {
     "name": "stdout",
     "output_type": "stream",
     "text": [
      "<class 'pandas.core.frame.DataFrame'>\n",
      "RangeIndex: 7617 entries, 0 to 7616\n",
      "Data columns (total 7 columns):\n",
      " #   Column           Non-Null Count  Dtype \n",
      "---  ------           --------------  ----- \n",
      " 0   heading          7617 non-null   object\n",
      " 1   content_summary  7617 non-null   object\n",
      " 2   article_link     7617 non-null   object\n",
      " 3   img_link         7617 non-null   object\n",
      " 4   month_date       7617 non-null   object\n",
      " 5   time             7617 non-null   object\n",
      " 6   Year             7617 non-null   object\n",
      "dtypes: object(7)\n",
      "memory usage: 416.7+ KB\n"
     ]
    }
   ],
   "source": [
    "df.info()"
   ]
  },
  {
   "cell_type": "markdown",
   "metadata": {},
   "source": [
    "### We will check now whether any null value present in dataset or not."
   ]
  },
  {
   "cell_type": "code",
   "execution_count": 5,
   "metadata": {
    "colab": {
     "base_uri": "https://localhost:8080/"
    },
    "id": "w3SJwYnk-T4I",
    "outputId": "96243a87-5b37-4778-e151-32cf6b86f171"
   },
   "outputs": [
    {
     "data": {
      "text/plain": [
       "heading            0\n",
       "content_summary    0\n",
       "article_link       0\n",
       "img_link           0\n",
       "month_date         0\n",
       "time               0\n",
       "Year               0\n",
       "dtype: int64"
      ]
     },
     "execution_count": 5,
     "metadata": {},
     "output_type": "execute_result"
    }
   ],
   "source": [
    "df.isnull().sum()"
   ]
  },
  {
   "cell_type": "code",
   "execution_count": 6,
   "metadata": {
    "colab": {
     "base_uri": "https://localhost:8080/"
    },
    "id": "7KeyNr2E-YKb",
    "outputId": "77138df1-88da-49a8-9c56-ea17aeb9f975"
   },
   "outputs": [
    {
     "data": {
      "text/plain": [
       "Index(['heading', 'content_summary', 'article_link', 'img_link', 'month_date',\n",
       "       'time', 'Year'],\n",
       "      dtype='object')"
      ]
     },
     "execution_count": 6,
     "metadata": {},
     "output_type": "execute_result"
    }
   ],
   "source": [
    "df.columns"
   ]
  },
  {
   "cell_type": "code",
   "execution_count": 7,
   "metadata": {
    "colab": {
     "base_uri": "https://localhost:8080/"
    },
    "id": "LioqaGFw-oLw",
    "outputId": "3133deaf-54fd-401c-bb98-108bb53bd0aa"
   },
   "outputs": [
    {
     "name": "stdout",
     "output_type": "stream",
     "text": [
      "[]\n"
     ]
    }
   ],
   "source": [
    "empty_indx=[]\n",
    "for indx, heading, content_summary,article_link,img_link,month_date,time,year in df.itertuples():\n",
    "  if type(heading)==str:\n",
    "    if heading.isspace():\n",
    "      empty_indx.append(indx)\n",
    "print(empty_indx)"
   ]
  },
  {
   "cell_type": "markdown",
   "metadata": {},
   "source": [
    "### From above we can seen that there is no null value present in the dataset."
   ]
  },
  {
   "cell_type": "markdown",
   "metadata": {},
   "source": [
    "### Making some plot to understand our dataset."
   ]
  },
  {
   "cell_type": "code",
   "execution_count": 8,
   "metadata": {
    "id": "w9_wFan1Yurx"
   },
   "outputs": [],
   "source": [
    "df[\"heading_len\"] = df[\"heading\"].str.len()"
   ]
  },
  {
   "cell_type": "code",
   "execution_count": 28,
   "metadata": {
    "colab": {
     "base_uri": "https://localhost:8080/",
     "height": 443
    },
    "id": "UO_d3MECIarb",
    "outputId": "5bde1449-9c1f-4f7a-b510-fefdde88f51e"
   },
   "outputs": [
    {
     "data": {
      "image/png": "[encoded data removed]",
      "text/plain": [
       "<Figure size 504x504 with 1 Axes>"
      ]
     },
     "metadata": {
      "needs_background": "light"
     },
     "output_type": "display_data"
    }
   ],
   "source": [
    "plt.figure(figsize=(7,7))\n",
    "sns.distplot(df[\"heading_len\"])\n",
    "plt.show()\n"
   ]
  },
  {
   "cell_type": "code",
   "execution_count": 29,
   "metadata": {
    "colab": {
     "base_uri": "https://localhost:8080/",
     "height": 297
    },
    "id": "pDjplqHyIa2e",
    "outputId": "0a09bd81-480a-449f-ce71-980b0872893d"
   },
   "outputs": [
    {
     "data": {
      "text/plain": [
       "<AxesSubplot:xlabel='heading_len', ylabel='Count'>"
      ]
     },
     "execution_count": 29,
     "metadata": {},
     "output_type": "execute_result"
    },
    {
     "data": {
      "image/png": "[encoded data removed]",
      "text/plain": [
       "<Figure size 432x288 with 1 Axes>"
      ]
     },
     "metadata": {
      "needs_background": "light"
     },
     "output_type": "display_data"
    }
   ],
   "source": [
    "sns.histplot(data=df,x=df[\"heading_len\"])"
   ]
  },
  {
   "cell_type": "code",
   "execution_count": 9,
   "metadata": {
    "id": "gEHJG_1OjcoS"
   },
   "outputs": [],
   "source": [
    "df[\"word_count\"]=df[\"heading\"].str.split().apply(len)\n"
   ]
  },
  {
   "cell_type": "code",
   "execution_count": 30,
   "metadata": {
    "colab": {
     "base_uri": "https://localhost:8080/",
     "height": 443
    },
    "id": "A2BE2qPGIlvX",
    "outputId": "c2f5812c-cc26-43e0-f9e1-f007d3c2383f"
   },
   "outputs": [
    {
     "data": {
      "image/png": "[encoded data removed]",
      "text/plain": [
       "<Figure size 504x504 with 1 Axes>"
      ]
     },
     "metadata": {
      "needs_background": "light"
     },
     "output_type": "display_data"
    }
   ],
   "source": [
    "plt.figure(figsize=(7,7))\n",
    "sns.distplot(df[\"word_count\"])\n",
    "plt.show()\n"
   ]
  },
  {
   "cell_type": "code",
   "execution_count": 31,
   "metadata": {
    "colab": {
     "base_uri": "https://localhost:8080/",
     "height": 297
    },
    "id": "BB4BX6CqIl7n",
    "outputId": "d3579b43-debd-4efe-ab2a-d04f94fdff5b"
   },
   "outputs": [
    {
     "data": {
      "text/plain": [
       "<AxesSubplot:xlabel='word_count', ylabel='Count'>"
      ]
     },
     "execution_count": 31,
     "metadata": {},
     "output_type": "execute_result"
    },
    {
     "data": {
      "image/png": "[encoded data removed]",
      "text/plain": [
       "<Figure size 432x288 with 1 Axes>"
      ]
     },
     "metadata": {
      "needs_background": "light"
     },
     "output_type": "display_data"
    }
   ],
   "source": [
    "sns.histplot(data=df,x=df[\"word_count\"])"
   ]
  },
  {
   "cell_type": "code",
   "execution_count": 10,
   "metadata": {
    "id": "QOXNhuYvsNey"
   },
   "outputs": [],
   "source": [
    "def avg_word_len(x):\n",
    "  words=x.split()\n",
    "  word_len=0\n",
    "  for i in words:\n",
    "    word_len=word_len+len(i)\n",
    "  return word_len/len(words)"
   ]
  },
  {
   "cell_type": "code",
   "execution_count": 11,
   "metadata": {
    "id": "imNBGk68HmPl"
   },
   "outputs": [],
   "source": [
    "df[\"avg_word_len\"]=df[\"heading\"].apply(avg_word_len)"
   ]
  },
  {
   "cell_type": "code",
   "execution_count": 32,
   "metadata": {
    "colab": {
     "base_uri": "https://localhost:8080/",
     "height": 443
    },
    "id": "QavB5YBPJCW9",
    "outputId": "9aa9be58-0110-4b61-9a3f-dd9324f040b6"
   },
   "outputs": [
    {
     "data": {
      "image/png": "[encoded data removed]",
      "text/plain": [
       "<Figure size 504x504 with 1 Axes>"
      ]
     },
     "metadata": {
      "needs_background": "light"
     },
     "output_type": "display_data"
    }
   ],
   "source": [
    "plt.figure(figsize=(7,7))\n",
    "sns.distplot(df[\"avg_word_len\"])\n",
    "plt.show()"
   ]
  },
  {
   "cell_type": "code",
   "execution_count": 33,
   "metadata": {
    "colab": {
     "base_uri": "https://localhost:8080/",
     "height": 297
    },
    "id": "s9URGjx8JCgN",
    "outputId": "329a478b-f048-4a93-bb80-ff2240a36f36"
   },
   "outputs": [
    {
     "data": {
      "text/plain": [
       "<AxesSubplot:xlabel='avg_word_len', ylabel='Count'>"
      ]
     },
     "execution_count": 33,
     "metadata": {},
     "output_type": "execute_result"
    },
    {
     "data": {
      "image/png": "[encoded data removed]",
      "text/plain": [
       "<Figure size 432x288 with 1 Axes>"
      ]
     },
     "metadata": {
      "needs_background": "light"
     },
     "output_type": "display_data"
    }
   ],
   "source": [
    "sns.histplot(data=df,x=df[\"avg_word_len\"])"
   ]
  },
  {
   "cell_type": "markdown",
   "metadata": {},
   "source": [
    "### From above all graph we can say that our data is almost normally distributed."
   ]
  },
  {
   "cell_type": "markdown",
   "metadata": {},
   "source": [
    "### We will now import nltk and it's library as well dependancies."
   ]
  },
  {
   "cell_type": "code",
   "execution_count": 34,
   "metadata": {
    "colab": {
     "base_uri": "https://localhost:8080/"
    },
    "id": "L0vbZb0S_d6-",
    "outputId": "889afb41-442c-4448-d180-56a81054c930"
   },
   "outputs": [
    {
     "name": "stderr",
     "output_type": "stream",
     "text": [
      "[nltk_data] Downloading package punkt to /root/nltk_data...\n",
      "[nltk_data]   Unzipping tokenizers/punkt.zip.\n",
      "[nltk_data] Downloading package stopwords to /root/nltk_data...\n",
      "[nltk_data]   Unzipping corpora/stopwords.zip.\n",
      "[nltk_data] Downloading package wordnet to /root/nltk_data...\n",
      "[nltk_data] Downloading package omw-1.4 to /root/nltk_data...\n"
     ]
    },
    {
     "data": {
      "text/plain": [
       "True"
      ]
     },
     "execution_count": 34,
     "metadata": {},
     "output_type": "execute_result"
    }
   ],
   "source": [
    "import nltk\n",
    "from nltk.tokenize import word_tokenize\n",
    "nltk.download(\"punkt\")\n",
    "from nltk.corpus import stopwords\n",
    "nltk.download(\"stopwords\")\n",
    "from nltk.stem import PorterStemmer, WordNetLemmatizer\n",
    "nltk.download(\"wordnet\")\n",
    "nltk.download(\"omw-1.4\")"
   ]
  },
  {
   "cell_type": "markdown",
   "metadata": {},
   "source": [
    "### Now we will do some preprocessing for cleaning the text."
   ]
  },
  {
   "cell_type": "code",
   "execution_count": 35,
   "metadata": {
    "id": "GDdlNZGDBnkv"
   },
   "outputs": [],
   "source": [
    "def clean_text(text):\n",
    "  token=word_tokenize(text.lower())\n",
    "  ftoken=[i for i in token if i.isalpha()]\n",
    "  stpwd=stopwords.words(\"english\")\n",
    "  stoken=[i for i in ftoken if i not in stpwd ]\n",
    "  lemma=WordNetLemmatizer()\n",
    "  ltoken=[lemma.lemmatize(i) for i in stoken]\n",
    "  return \" \".join(ltoken)"
   ]
  },
  {
   "cell_type": "code",
   "execution_count": 36,
   "metadata": {
    "id": "2phgaZNIDMtp"
   },
   "outputs": [],
   "source": [
    "df[\"heading\"]=df[\"heading\"].astype(str)"
   ]
  },
  {
   "cell_type": "code",
   "execution_count": 37,
   "metadata": {
    "id": "J8EVX3cUDcsD"
   },
   "outputs": [],
   "source": [
    "df[\"clean_heading\"]=df[\"heading\"].apply(clean_text)"
   ]
  },
  {
   "cell_type": "markdown",
   "metadata": {},
   "source": [
    "### We have cleaned our text. We once check our dataframe now."
   ]
  },
  {
   "cell_type": "code",
   "execution_count": 38,
   "metadata": {
    "colab": {
     "base_uri": "https://localhost:8080/",
     "height": 582
    },
    "id": "qE-h__fuDpyI",
    "outputId": "fb01856b-4f74-4a75-aa43-ff2f140011e3"
   },
   "outputs": [
    {
     "data": {
      "text/html": [
       "\n",
       "  <div id=\"df-98e16bba-57e3-4c2d-aee9-cd68bbf16a28\">\n",
       "    <div class=\"colab-df-container\">\n",
       "      <div>\n",
       "<style scoped>\n",
       "    .dataframe tbody tr th:only-of-type {\n",
       "        vertical-align: middle;\n",
       "    }\n",
       "\n",
       "    .dataframe tbody tr th {\n",
       "        vertical-align: top;\n",
       "    }\n",
       "\n",
       "    .dataframe thead th {\n",
       "        text-align: right;\n",
       "    }\n",
       "</style>\n",
       "<table border=\"1\" class=\"dataframe\">\n",
       "  <thead>\n",
       "    <tr style=\"text-align: right;\">\n",
       "      <th></th>\n",
       "      <th>heading</th>\n",
       "      <th>content_summary</th>\n",
       "      <th>article_link</th>\n",
       "      <th>img_link</th>\n",
       "      <th>month_date</th>\n",
       "      <th>time</th>\n",
       "      <th>Year</th>\n",
       "      <th>heading_len</th>\n",
       "      <th>word_count</th>\n",
       "      <th>avg_word_len</th>\n",
       "      <th>clean_heading</th>\n",
       "    </tr>\n",
       "  </thead>\n",
       "  <tbody>\n",
       "    <tr>\n",
       "      <th>0</th>\n",
       "      <td>Uttarakhand: Man, 39, held for killing consta...</td>\n",
       "      <td>Nainital district police on Monday arrested a...</td>\n",
       "      <td>https://timesofindia.indiatimes.com/city/dehra...</td>\n",
       "      <td>https://static.toiimg.com/thumb/imgsize-123456...</td>\n",
       "      <td>Nov 08</td>\n",
       "      <td>09:55</td>\n",
       "      <td>2022</td>\n",
       "      <td>69</td>\n",
       "      <td>10</td>\n",
       "      <td>5.800000</td>\n",
       "      <td>uttarakhand man held killing constable wife ha...</td>\n",
       "    </tr>\n",
       "    <tr>\n",
       "      <th>1</th>\n",
       "      <td>Nashik city: Another theft from parked car, s...</td>\n",
       "      <td>Thefts from parked cars continues in the city...</td>\n",
       "      <td>https://timesofindia.indiatimes.com/city/nashi...</td>\n",
       "      <td>https://static.toiimg.com/thumb/imgsize-123456...</td>\n",
       "      <td>Nov 08</td>\n",
       "      <td>08:25</td>\n",
       "      <td>2022</td>\n",
       "      <td>68</td>\n",
       "      <td>12</td>\n",
       "      <td>4.583333</td>\n",
       "      <td>nashik city another theft parked car seventh c...</td>\n",
       "    </tr>\n",
       "    <tr>\n",
       "      <th>2</th>\n",
       "      <td>Pune: Externed criminal jumps from bus fearin...</td>\n",
       "      <td>An externed criminal died in the early hours ...</td>\n",
       "      <td>https://timesofindia.indiatimes.com/city/pune/...</td>\n",
       "      <td>https://static.toiimg.com/thumb/imgsize-123456...</td>\n",
       "      <td>Nov 08</td>\n",
       "      <td>05:17</td>\n",
       "      <td>2022</td>\n",
       "      <td>72</td>\n",
       "      <td>12</td>\n",
       "      <td>4.916667</td>\n",
       "      <td>pune externed criminal jump bus fearing cop ca...</td>\n",
       "    </tr>\n",
       "    <tr>\n",
       "      <th>3</th>\n",
       "      <td>Gaya woman burned alive on suspicion of witch...</td>\n",
       "      <td>A middle-aged woman was badly thrashed and bu...</td>\n",
       "      <td>https://timesofindia.indiatimes.com/city/patna...</td>\n",
       "      <td>https://static.toiimg.com/thumb/imgsize-123456...</td>\n",
       "      <td>Nov 06</td>\n",
       "      <td>05:24</td>\n",
       "      <td>2022</td>\n",
       "      <td>52</td>\n",
       "      <td>8</td>\n",
       "      <td>5.375000</td>\n",
       "      <td>gaya woman burned alive suspicion witchcraft</td>\n",
       "    </tr>\n",
       "    <tr>\n",
       "      <th>4</th>\n",
       "      <td>Man held on charge of stalking in Pune</td>\n",
       "      <td>A man (33) was arrested on Tuesday from Khed ...</td>\n",
       "      <td>https://timesofindia.indiatimes.com/city/pune/...</td>\n",
       "      <td>https://static.toiimg.com/thumb/imgsize-123456...</td>\n",
       "      <td>Nov 03</td>\n",
       "      <td>08:32</td>\n",
       "      <td>2022</td>\n",
       "      <td>40</td>\n",
       "      <td>8</td>\n",
       "      <td>3.875000</td>\n",
       "      <td>man held charge stalking pune</td>\n",
       "    </tr>\n",
       "  </tbody>\n",
       "</table>\n",
       "</div>\n",
       "      <button class=\"colab-df-convert\" onclick=\"convertToInteractive('df-98e16bba-57e3-4c2d-aee9-cd68bbf16a28')\"\n",
       "              title=\"Convert this dataframe to an interactive table.\"\n",
       "              style=\"display:none;\">\n",
       "        \n",
       "  <svg xmlns=\"http://www.w3.org/2000/svg\" height=\"24px\"viewBox=\"0 0 24 24\"\n",
       "       width=\"24px\">\n",
       "    <path d=\"M0 0h24v24H0V0z\" fill=\"none\"/>\n",
       "    <path d=\"M18.56 5.44l.94 2.06.94-2.06 2.06-.94-2.06-.94-.94-2.06-.94 2.06-2.06.94zm-11 1L8.5 8.5l.94-2.06 2.06-.94-2.06-.94L8.5 2.5l-.94 2.06-2.06.94zm10 10l.94 2.06.94-2.06 2.06-.94-2.06-.94-.94-2.06-.94 2.06-2.06.94z\"/><path d=\"M17.41 7.96l-1.37-1.37c-.4-.4-.92-.59-1.43-.59-.52 0-1.04.2-1.43.59L10.3 9.45l-7.72 7.72c-.78.78-.78 2.05 0 2.83L4 21.41c.39.39.9.59 1.41.59.51 0 1.02-.2 1.41-.59l7.78-7.78 2.81-2.81c.8-.78.8-2.07 0-2.86zM5.41 20L4 18.59l7.72-7.72 1.47 1.35L5.41 20z\"/>\n",
       "  </svg>\n",
       "      </button>\n",
       "      \n",
       "  <style>\n",
       "    .colab-df-container {\n",
       "      display:flex;\n",
       "      flex-wrap:wrap;\n",
       "      gap: 12px;\n",
       "    }\n",
       "\n",
       "    .colab-df-convert {\n",
       "      background-color: #E8F0FE;\n",
       "      border: none;\n",
       "      border-radius: 50%;\n",
       "      cursor: pointer;\n",
       "      display: none;\n",
       "      fill: #1967D2;\n",
       "      height: 32px;\n",
       "      padding: 0 0 0 0;\n",
       "      width: 32px;\n",
       "    }\n",
       "\n",
       "    .colab-df-convert:hover {\n",
       "      background-color: #E2EBFA;\n",
       "      box-shadow: 0px 1px 2px rgba(60, 64, 67, 0.3), 0px 1px 3px 1px rgba(60, 64, 67, 0.15);\n",
       "      fill: #174EA6;\n",
       "    }\n",
       "\n",
       "    [theme=dark] .colab-df-convert {\n",
       "      background-color: #3B4455;\n",
       "      fill: #D2E3FC;\n",
       "    }\n",
       "\n",
       "    [theme=dark] .colab-df-convert:hover {\n",
       "      background-color: #434B5C;\n",
       "      box-shadow: 0px 1px 3px 1px rgba(0, 0, 0, 0.15);\n",
       "      filter: drop-shadow(0px 1px 2px rgba(0, 0, 0, 0.3));\n",
       "      fill: #FFFFFF;\n",
       "    }\n",
       "  </style>\n",
       "\n",
       "      <script>\n",
       "        const buttonEl =\n",
       "          document.querySelector('#df-98e16bba-57e3-4c2d-aee9-cd68bbf16a28 button.colab-df-convert');\n",
       "        buttonEl.style.display =\n",
       "          google.colab.kernel.accessAllowed ? 'block' : 'none';\n",
       "\n",
       "        async function convertToInteractive(key) {\n",
       "          const element = document.querySelector('#df-98e16bba-57e3-4c2d-aee9-cd68bbf16a28');\n",
       "          const dataTable =\n",
       "            await google.colab.kernel.invokeFunction('convertToInteractive',\n",
       "                                                     [key], {});\n",
       "          if (!dataTable) return;\n",
       "\n",
       "          const docLinkHtml = 'Like what you see? Visit the ' +\n",
       "            '<a target=\"_blank\" href=https://colab.research.google.com/notebooks/data_table.ipynb>data table notebook</a>'\n",
       "            + ' to learn more about interactive tables.';\n",
       "          element.innerHTML = '';\n",
       "          dataTable['output_type'] = 'display_data';\n",
       "          await google.colab.output.renderOutput(dataTable, element);\n",
       "          const docLink = document.createElement('div');\n",
       "          docLink.innerHTML = docLinkHtml;\n",
       "          element.appendChild(docLink);\n",
       "        }\n",
       "      </script>\n",
       "    </div>\n",
       "  </div>\n",
       "  "
      ],
      "text/plain": [
       "                                             heading  \\\n",
       "0   Uttarakhand: Man, 39, held for killing consta...   \n",
       "1   Nashik city: Another theft from parked car, s...   \n",
       "2   Pune: Externed criminal jumps from bus fearin...   \n",
       "3   Gaya woman burned alive on suspicion of witch...   \n",
       "4            Man held on charge of stalking in Pune    \n",
       "\n",
       "                                     content_summary  \\\n",
       "0   Nainital district police on Monday arrested a...   \n",
       "1   Thefts from parked cars continues in the city...   \n",
       "2   An externed criminal died in the early hours ...   \n",
       "3   A middle-aged woman was badly thrashed and bu...   \n",
       "4   A man (33) was arrested on Tuesday from Khed ...   \n",
       "\n",
       "                                        article_link  \\\n",
       "0  https://timesofindia.indiatimes.com/city/dehra...   \n",
       "1  https://timesofindia.indiatimes.com/city/nashi...   \n",
       "2  https://timesofindia.indiatimes.com/city/pune/...   \n",
       "3  https://timesofindia.indiatimes.com/city/patna...   \n",
       "4  https://timesofindia.indiatimes.com/city/pune/...   \n",
       "\n",
       "                                            img_link month_date   time  Year  \\\n",
       "0  https://static.toiimg.com/thumb/imgsize-123456...     Nov 08  09:55  2022   \n",
       "1  https://static.toiimg.com/thumb/imgsize-123456...     Nov 08  08:25  2022   \n",
       "2  https://static.toiimg.com/thumb/imgsize-123456...     Nov 08  05:17  2022   \n",
       "3  https://static.toiimg.com/thumb/imgsize-123456...     Nov 06  05:24  2022   \n",
       "4  https://static.toiimg.com/thumb/imgsize-123456...     Nov 03  08:32  2022   \n",
       "\n",
       "   heading_len  word_count  avg_word_len  \\\n",
       "0           69          10      5.800000   \n",
       "1           68          12      4.583333   \n",
       "2           72          12      4.916667   \n",
       "3           52           8      5.375000   \n",
       "4           40           8      3.875000   \n",
       "\n",
       "                                       clean_heading  \n",
       "0  uttarakhand man held killing constable wife ha...  \n",
       "1  nashik city another theft parked car seventh c...  \n",
       "2  pune externed criminal jump bus fearing cop ca...  \n",
       "3       gaya woman burned alive suspicion witchcraft  \n",
       "4                      man held charge stalking pune  "
      ]
     },
     "execution_count": 38,
     "metadata": {},
     "output_type": "execute_result"
    }
   ],
   "source": [
    "df.head()"
   ]
  },
  {
   "cell_type": "markdown",
   "metadata": {},
   "source": [
    "### Will perform vectorization now."
   ]
  },
  {
   "cell_type": "code",
   "execution_count": 39,
   "metadata": {
    "colab": {
     "base_uri": "https://localhost:8080/"
    },
    "id": "aKU61A4NDtLs",
    "outputId": "a618148d-b934-43c9-b4d2-3a748865c19f"
   },
   "outputs": [
    {
     "data": {
      "text/plain": [
       "array([[0, 0, 0, ..., 0, 0, 0],\n",
       "       [0, 0, 0, ..., 0, 0, 0],\n",
       "       [0, 0, 0, ..., 0, 0, 0],\n",
       "       ...,\n",
       "       [0, 0, 0, ..., 0, 0, 0],\n",
       "       [0, 0, 0, ..., 0, 0, 0],\n",
       "       [0, 0, 0, ..., 0, 0, 0]])"
      ]
     },
     "execution_count": 39,
     "metadata": {},
     "output_type": "execute_result"
    }
   ],
   "source": [
    "from sklearn.feature_extraction.text import CountVectorizer\n",
    "cv=CountVectorizer()\n",
    "vectors=cv.fit_transform(df[\"clean_heading\"]).toarray()\n",
    "vectors"
   ]
  },
  {
   "cell_type": "code",
   "execution_count": 40,
   "metadata": {
    "id": "Kpw6F7tNFPcr"
   },
   "outputs": [],
   "source": [
    "from sklearn.metrics.pairwise import cosine_similarity"
   ]
  },
  {
   "cell_type": "markdown",
   "metadata": {},
   "source": [
    "### Finding similarities between vectors."
   ]
  },
  {
   "cell_type": "code",
   "execution_count": 41,
   "metadata": {
    "id": "-UoNZV7_FfCZ"
   },
   "outputs": [],
   "source": [
    "similarity=cosine_similarity(vectors)"
   ]
  },
  {
   "cell_type": "markdown",
   "metadata": {},
   "source": [
    "### Acessing other similar element to \"5th heading\""
   ]
  },
  {
   "cell_type": "code",
   "execution_count": 42,
   "metadata": {
    "colab": {
     "base_uri": "https://localhost:8080/"
    },
    "id": "JomV1zJIFjp-",
    "outputId": "718b1ddf-c2b7-410c-9efb-c2f3025f3447"
   },
   "outputs": [
    {
     "data": {
      "text/plain": [
       "array([0.        , 0.        , 0.22222222, ..., 0.        , 0.        ,\n",
       "       0.        ])"
      ]
     },
     "execution_count": 42,
     "metadata": {},
     "output_type": "execute_result"
    }
   ],
   "source": [
    "similarity[5]"
   ]
  },
  {
   "cell_type": "markdown",
   "metadata": {},
   "source": [
    "### Building recommendaion function."
   ]
  },
  {
   "cell_type": "code",
   "execution_count": 43,
   "metadata": {
    "id": "CmMSg76XFr_k"
   },
   "outputs": [],
   "source": [
    "def recommend(tag):\n",
    "    \n",
    "    heading_index=df[df[\"clean_heading\"]==tag].index[0]\n",
    "    distances=similarity[heading_index]\n",
    "    heading_list=sorted(list(enumerate(distances)),reverse=True,key=lambda x:x[1])[1:6]\n",
    "    \n",
    "    for i in heading_list:\n",
    "      print(df.iloc[i[0]].clean_heading)\n",
    "    "
   ]
  },
  {
   "cell_type": "code",
   "execution_count": 44,
   "metadata": {
    "colab": {
     "base_uri": "https://localhost:8080/",
     "height": 36
    },
    "id": "qtTL8jyxIx1w",
    "outputId": "07abe66f-c005-4b92-a473-7a554059494f"
   },
   "outputs": [
    {
     "data": {
      "application/vnd.google.colaboratory.intrinsic+json": {
       "type": "string"
      },
      "text/plain": [
       "'uttarakhand man held killing constable wife haldwani'"
      ]
     },
     "execution_count": 44,
     "metadata": {},
     "output_type": "execute_result"
    }
   ],
   "source": [
    "df[\"clean_heading\"][0]"
   ]
  },
  {
   "cell_type": "markdown",
   "metadata": {},
   "source": [
    "### Will check for 5 similar type of heading."
   ]
  },
  {
   "cell_type": "code",
   "execution_count": 45,
   "metadata": {
    "colab": {
     "base_uri": "https://localhost:8080/"
    },
    "id": "PlDepG-cNNJW",
    "outputId": "48ee1c86-61c8-403e-cc33-2913f6ccd712"
   },
   "outputs": [
    {
     "name": "stdout",
     "output_type": "stream",
     "text": [
      "uttarakhand man held killing constable wife u nagar\n",
      "pune man held killing wife\n",
      "delhi man held killing wife partner\n",
      "man held killing wife front child\n",
      "navi mumbai man held killing wife arrested\n"
     ]
    }
   ],
   "source": [
    "recommend('uttarakhand man held killing constable wife haldwani')"
   ]
  },
  {
   "cell_type": "markdown",
   "metadata": {
    "id": "cwLVlkR_zmB7"
   },
   "source": [
    "### We successfully build our article recommendation system. We could observe that now it is recommending top 5 related crime articles."
   ]
  },
  {
   "cell_type": "markdown",
   "metadata": {},
   "source": [
    "### We will now build the web app to recommend related crime article for the user. For that we will pickle file of count vectorizer and dataframe of dataset."
   ]
  },
  {
   "cell_type": "code",
   "execution_count": 1,
   "metadata": {},
   "outputs": [],
   "source": [
    "import pickle"
   ]
  },
  {
   "cell_type": "code",
   "execution_count": null,
   "metadata": {},
   "outputs": [],
   "source": [
    "pickle.dump(cv,open(\"cntvect.pkl\",\"wb\"))"
   ]
  },
  {
   "cell_type": "code",
   "execution_count": null,
   "metadata": {},
   "outputs": [],
   "source": [
    "pickle.dump(df,open(\"df.pkl\",\"wb\"))"
   ]
  }
 ],
 "metadata": {
  "colab": {
   "provenance": []
  },
  "kernelspec": {
   "display_name": "Python 3 (ipykernel)",
   "language": "python",
   "name": "python3"
  },
  "language_info": {
   "codemirror_mode": {
    "name": "ipython",
    "version": 3
   },
   "file_extension": ".py",
   "mimetype": "text/x-python",
   "name": "python",
   "nbconvert_exporter": "python",
   "pygments_lexer": "ipython3",
   "version": "3.10.2"
  }
 },
 "nbformat": 4,
 "nbformat_minor": 1
}
